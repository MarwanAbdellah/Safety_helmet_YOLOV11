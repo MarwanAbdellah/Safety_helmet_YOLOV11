{
 "cells": [
  {
   "cell_type": "code",
   "execution_count": 1,
   "id": "7ad7090b",
   "metadata": {},
   "outputs": [
    {
     "name": "stdout",
     "output_type": "stream",
     "text": [
      "e:\\Github\\Safety_helmet_YOLOV11\n"
     ]
    }
   ],
   "source": [
    "%cd .."
   ]
  },
  {
   "cell_type": "markdown",
   "id": "4dfe997a",
   "metadata": {},
   "source": [
    "# Downloading Our Data from Roboflow"
   ]
  },
  {
   "cell_type": "code",
   "execution_count": null,
   "id": "b141ed40",
   "metadata": {},
   "outputs": [
    {
     "name": "stdout",
     "output_type": "stream",
     "text": [
      "loading Roboflow workspace...\n",
      "loading Roboflow project...\n"
     ]
    }
   ],
   "source": [
    "from roboflow import Roboflow\n",
    "rf = Roboflow(api_key=\"api-key\")\n",
    "project = rf.workspace(\"workspace\").project(\"safety-helmet-q3b8o-mz02g\")\n",
    "version = project.version(1)\n",
    "dataset = version.download(\"yolov11\")\n",
    "                "
   ]
  },
  {
   "cell_type": "markdown",
   "id": "b843e2d6",
   "metadata": {},
   "source": [
    "# Checking the number of classes we have"
   ]
  },
  {
   "cell_type": "code",
   "execution_count": 3,
   "id": "23fd3d35",
   "metadata": {},
   "outputs": [],
   "source": [
    "import yaml\n",
    "\n",
    "with open(r\"safety-helmet-1\\data.yaml\", \"r\") as f:\n",
    "    data = yaml.safe_load(f)"
   ]
  },
  {
   "cell_type": "code",
   "execution_count": 4,
   "id": "19b1c50a",
   "metadata": {},
   "outputs": [
    {
     "data": {
      "text/plain": [
       "{'train': '../train/images',\n",
       " 'val': '../valid/images',\n",
       " 'test': '../test/images',\n",
       " 'nc': 2,\n",
       " 'names': ['helm', 'no-helm'],\n",
       " 'roboflow': {'workspace': 'marwanswork',\n",
       "  'project': 'safety-helmet-q3b8o-mz02g',\n",
       "  'version': 1,\n",
       "  'license': 'CC BY 4.0',\n",
       "  'url': 'https://universe.roboflow.com/marwanswork/safety-helmet-q3b8o-mz02g/dataset/1'}}"
      ]
     },
     "execution_count": 4,
     "metadata": {},
     "output_type": "execute_result"
    }
   ],
   "source": [
    "data"
   ]
  },
  {
   "cell_type": "code",
   "execution_count": null,
   "id": "e96487dd",
   "metadata": {},
   "outputs": [
    {
     "data": {
      "text/plain": [
       "2"
      ]
     },
     "execution_count": 5,
     "metadata": {},
     "output_type": "execute_result"
    }
   ],
   "source": [
    "data[\"nc\"]\n"
   ]
  },
  {
   "cell_type": "code",
   "execution_count": 6,
   "id": "a233fdda",
   "metadata": {},
   "outputs": [
    {
     "data": {
      "text/plain": [
       "['helm', 'no-helm']"
      ]
     },
     "execution_count": 6,
     "metadata": {},
     "output_type": "execute_result"
    }
   ],
   "source": [
    "data['names']"
   ]
  },
  {
   "cell_type": "code",
   "execution_count": null,
   "id": "9232b461",
   "metadata": {},
   "outputs": [],
   "source": []
  }
 ],
 "metadata": {
  "kernelspec": {
   "display_name": "safety_helmet",
   "language": "python",
   "name": "python3"
  },
  "language_info": {
   "codemirror_mode": {
    "name": "ipython",
    "version": 3
   },
   "file_extension": ".py",
   "mimetype": "text/x-python",
   "name": "python",
   "nbconvert_exporter": "python",
   "pygments_lexer": "ipython3",
   "version": "3.11.11"
  }
 },
 "nbformat": 4,
 "nbformat_minor": 5
}
